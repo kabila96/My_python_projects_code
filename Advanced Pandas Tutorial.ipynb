{
 "cells": [
  {
   "cell_type": "code",
   "execution_count": 1,
   "id": "512f5f8d-04b5-47de-94e6-be797cd4f8f9",
   "metadata": {},
   "outputs": [],
   "source": [
    "import pandas as pd"
   ]
  },
  {
   "cell_type": "code",
   "execution_count": 3,
   "id": "ef42baf1-ef8b-4e20-a498-7c2559416c19",
   "metadata": {},
   "outputs": [],
   "source": [
    "from io import StringIO"
   ]
  },
  {
   "cell_type": "markdown",
   "id": "2370667d-ef38-453a-ad2f-7cfc38eaf674",
   "metadata": {},
   "source": [
    "# Create sample data as a CSV string"
   ]
  },
  {
   "cell_type": "code",
   "execution_count": 5,
   "id": "c184a68e-f227-444b-88e6-f83d94fc00ff",
   "metadata": {},
   "outputs": [],
   "source": [
    "employee_data = StringIO(\"\"\"\n",
    "EmployeeID,Name,Department,Salary\n",
    "1,John Doe,IT,60000\n",
    "2,Jane Smith,HR,55000\n",
    "3,Tom Brown,IT,\n",
    "4,Lucy White,Finance,70000\n",
    "5,,HR,50000\n",
    "6,Emily Davis,Finance,\n",
    "\"\"\")"
   ]
  },
  {
   "cell_type": "markdown",
   "id": "1fd5c6a7-25e9-494b-924a-ff6e15efa2d9",
   "metadata": {},
   "source": [
    "# Load data into DataFrame"
   ]
  },
  {
   "cell_type": "code",
   "execution_count": 7,
   "id": "b8af39c1-8ef1-420f-a485-d9a1741f19f0",
   "metadata": {},
   "outputs": [],
   "source": [
    "df_employee = pd.read_csv(employee_data)"
   ]
  },
  {
   "cell_type": "markdown",
   "id": "892abe1f-cb48-41e1-a97b-494238eb5fe3",
   "metadata": {},
   "source": [
    "# Display original DataFrame"
   ]
  },
  {
   "cell_type": "code",
   "execution_count": 9,
   "id": "9658d219-68d8-4576-beab-7cf828ea58f8",
   "metadata": {},
   "outputs": [
    {
     "name": "stdout",
     "output_type": "stream",
     "text": [
      "Original Employee DataFrame:\n",
      "   EmployeeID         Name Department   Salary\n",
      "0           1     John Doe         IT  60000.0\n",
      "1           2   Jane Smith         HR  55000.0\n",
      "2           3    Tom Brown         IT      NaN\n",
      "3           4   Lucy White    Finance  70000.0\n",
      "4           5          NaN         HR  50000.0\n",
      "5           6  Emily Davis    Finance      NaN\n"
     ]
    }
   ],
   "source": [
    "print(\"Original Employee DataFrame:\")\n",
    "print(df_employee)"
   ]
  },
  {
   "cell_type": "code",
   "execution_count": 12,
   "id": "66b1a147-7afe-4b7c-856f-69063d4e5f49",
   "metadata": {},
   "outputs": [],
   "source": [
    "# Clean data"
   ]
  },
  {
   "cell_type": "code",
   "execution_count": 14,
   "id": "2e3059b2-002b-4a5e-b7b9-496552a97f1e",
   "metadata": {},
   "outputs": [
    {
     "name": "stderr",
     "output_type": "stream",
     "text": [
      "C:\\Users\\User\\AppData\\Local\\Temp\\ipykernel_12356\\747549054.py:1: FutureWarning: A value is trying to be set on a copy of a DataFrame or Series through chained assignment using an inplace method.\n",
      "The behavior will change in pandas 3.0. This inplace method will never work because the intermediate object on which we are setting values always behaves as a copy.\n",
      "\n",
      "For example, when doing 'df[col].method(value, inplace=True)', try using 'df.method({col: value}, inplace=True)' or df[col] = df[col].method(value) instead, to perform the operation inplace on the original object.\n",
      "\n",
      "\n",
      "  df_employee['Name'].fillna('Unknown', inplace=True)\n"
     ]
    }
   ],
   "source": [
    "df_employee['Name'].fillna('Unknown', inplace=True)"
   ]
  },
  {
   "cell_type": "code",
   "execution_count": 16,
   "id": "c472eb24-7562-410b-a9d3-be8256db6130",
   "metadata": {},
   "outputs": [
    {
     "name": "stderr",
     "output_type": "stream",
     "text": [
      "C:\\Users\\User\\AppData\\Local\\Temp\\ipykernel_12356\\1367201714.py:1: FutureWarning: A value is trying to be set on a copy of a DataFrame or Series through chained assignment using an inplace method.\n",
      "The behavior will change in pandas 3.0. This inplace method will never work because the intermediate object on which we are setting values always behaves as a copy.\n",
      "\n",
      "For example, when doing 'df[col].method(value, inplace=True)', try using 'df.method({col: value}, inplace=True)' or df[col] = df[col].method(value) instead, to perform the operation inplace on the original object.\n",
      "\n",
      "\n",
      "  df_employee['Salary'].fillna(df_employee['Salary'].mean(), inplace=True)\n"
     ]
    }
   ],
   "source": [
    "df_employee['Salary'].fillna(df_employee['Salary'].mean(), inplace=True)"
   ]
  },
  {
   "cell_type": "code",
   "execution_count": null,
   "id": "d3ca7bb6-3d7c-4b83-b138-8f5f8fa971c7",
   "metadata": {},
   "outputs": [],
   "source": []
  },
  {
   "cell_type": "code",
   "execution_count": null,
   "id": "3dbcea62-8377-4f70-87fe-188fb7cd4d6d",
   "metadata": {},
   "outputs": [],
   "source": []
  },
  {
   "cell_type": "code",
   "execution_count": null,
   "id": "6ccc6f74-4760-4126-8f95-c6903996b23a",
   "metadata": {},
   "outputs": [],
   "source": []
  },
  {
   "cell_type": "code",
   "execution_count": null,
   "id": "3394c5b5-7fb5-48d2-aad2-d7f4780e4341",
   "metadata": {},
   "outputs": [],
   "source": []
  },
  {
   "cell_type": "code",
   "execution_count": null,
   "id": "59d67d50-c2b6-49d1-9df3-275b0ec8d42f",
   "metadata": {},
   "outputs": [],
   "source": []
  },
  {
   "cell_type": "code",
   "execution_count": null,
   "id": "1556777c-d167-4fee-a279-55b28114525c",
   "metadata": {},
   "outputs": [],
   "source": []
  },
  {
   "cell_type": "code",
   "execution_count": null,
   "id": "a50ea8ce-6b41-439d-81f4-a4970664fa3b",
   "metadata": {},
   "outputs": [],
   "source": []
  },
  {
   "cell_type": "code",
   "execution_count": null,
   "id": "59092bae-141e-45fe-acf3-f8bf6f8978f1",
   "metadata": {},
   "outputs": [],
   "source": []
  },
  {
   "cell_type": "code",
   "execution_count": null,
   "id": "da694e4f-8b90-409d-8d30-5131569856a7",
   "metadata": {},
   "outputs": [],
   "source": []
  },
  {
   "cell_type": "code",
   "execution_count": null,
   "id": "983c0f9d-d3d7-43cc-a921-07bd24f4c258",
   "metadata": {},
   "outputs": [],
   "source": []
  },
  {
   "cell_type": "code",
   "execution_count": null,
   "id": "e109c4e1-3810-4454-930d-7b1c51806f50",
   "metadata": {},
   "outputs": [],
   "source": []
  },
  {
   "cell_type": "code",
   "execution_count": null,
   "id": "2fe473ed-9eee-4254-a9c4-16efe30234d5",
   "metadata": {},
   "outputs": [],
   "source": []
  }
 ],
 "metadata": {
  "kernelspec": {
   "display_name": "Python 3 (ipykernel)",
   "language": "python",
   "name": "python3"
  },
  "language_info": {
   "codemirror_mode": {
    "name": "ipython",
    "version": 3
   },
   "file_extension": ".py",
   "mimetype": "text/x-python",
   "name": "python",
   "nbconvert_exporter": "python",
   "pygments_lexer": "ipython3",
   "version": "3.12.4"
  }
 },
 "nbformat": 4,
 "nbformat_minor": 5
}
