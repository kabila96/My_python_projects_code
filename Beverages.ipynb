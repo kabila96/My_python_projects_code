{
 "cells": [
  {
   "cell_type": "code",
   "execution_count": 1,
   "id": "5130426e-9554-4e3b-8899-61c27e314a59",
   "metadata": {},
   "outputs": [],
   "source": [
    "# Importing libraries\n",
    "import pandas as pd\n",
    "import numpy as np\n",
    "import matplotlib.pyplot as plt\n",
    "import seaborn as sns\n",
    "from sklearn.model_selection import train_test_split\n",
    "from sklearn.ensemble import RandomForestRegressor\n",
    "from sklearn.metrics import mean_squared_error, mean_absolute_error, r2_score\n",
    "import datetime"
   ]
  },
  {
   "cell_type": "code",
   "execution_count": 3,
   "id": "466e7467-c146-4ee4-ba80-95204044f509",
   "metadata": {},
   "outputs": [],
   "source": [
    "# Load dataset\n",
    "# Replace with actual dataset or synthetic generation\n",
    "url = \"https://raw.githubusercontent.com/jbrownlee/Datasets/master/daily-min-temperatures.csv\"  # Example dataset\n",
    "data = pd.read_csv(url, parse_dates=['Date'], index_col='Date')"
   ]
  },
  {
   "cell_type": "code",
   "execution_count": 11,
   "id": "7575db8c-6554-4f9d-9b96-7cfe5bd8daca",
   "metadata": {},
   "outputs": [],
   "source": [
    "# Simulating relevant features for a beverage wholesale dataset\n",
    "data.rename(columns={\"Temp\": \"Sales_Volume\"}, inplace=True)\n",
    "data['Price'] = np.random.uniform(1.5, 3.5, size=len(data))  # Example prices\n",
    "data['Promotions'] = np.random.choice([0, 1], size=len(data))\n",
    "data['Holiday'] = np.where(data.index.dayofweek >= 5, 1, 0)  # Weekend as holiday\n",
    "data['Region'] = np.random.choice(['North', 'South', 'International'], size=len(data))\n",
    "\n",
    "# Feature engineering: Adding temporal features\n",
    "data['Year'] = data.index.year\n",
    "data['Month'] = data.index.month\n",
    "data['Day'] = data.index.day"
   ]
  },
  {
   "cell_type": "code",
   "execution_count": null,
   "id": "6a16e980-0c54-4796-84d9-5c3863b04646",
   "metadata": {},
   "outputs": [],
   "source": []
  },
  {
   "cell_type": "code",
   "execution_count": 14,
   "id": "1864aefb-5cff-4f69-a370-1300a6c13074",
   "metadata": {},
   "outputs": [
    {
     "data": {
      "text/html": [
       "<div>\n",
       "<style scoped>\n",
       "    .dataframe tbody tr th:only-of-type {\n",
       "        vertical-align: middle;\n",
       "    }\n",
       "\n",
       "    .dataframe tbody tr th {\n",
       "        vertical-align: top;\n",
       "    }\n",
       "\n",
       "    .dataframe thead th {\n",
       "        text-align: right;\n",
       "    }\n",
       "</style>\n",
       "<table border=\"1\" class=\"dataframe\">\n",
       "  <thead>\n",
       "    <tr style=\"text-align: right;\">\n",
       "      <th></th>\n",
       "      <th>Sales_Volume</th>\n",
       "      <th>Price</th>\n",
       "      <th>Promotions</th>\n",
       "      <th>Holiday</th>\n",
       "      <th>Region</th>\n",
       "      <th>Year</th>\n",
       "      <th>Month</th>\n",
       "      <th>Day</th>\n",
       "    </tr>\n",
       "    <tr>\n",
       "      <th>Date</th>\n",
       "      <th></th>\n",
       "      <th></th>\n",
       "      <th></th>\n",
       "      <th></th>\n",
       "      <th></th>\n",
       "      <th></th>\n",
       "      <th></th>\n",
       "      <th></th>\n",
       "    </tr>\n",
       "  </thead>\n",
       "  <tbody>\n",
       "    <tr>\n",
       "      <th>1981-01-01</th>\n",
       "      <td>20.7</td>\n",
       "      <td>1.578404</td>\n",
       "      <td>0</td>\n",
       "      <td>0</td>\n",
       "      <td>North</td>\n",
       "      <td>1981</td>\n",
       "      <td>1</td>\n",
       "      <td>1</td>\n",
       "    </tr>\n",
       "    <tr>\n",
       "      <th>1981-01-02</th>\n",
       "      <td>17.9</td>\n",
       "      <td>2.772377</td>\n",
       "      <td>1</td>\n",
       "      <td>0</td>\n",
       "      <td>North</td>\n",
       "      <td>1981</td>\n",
       "      <td>1</td>\n",
       "      <td>2</td>\n",
       "    </tr>\n",
       "    <tr>\n",
       "      <th>1981-01-03</th>\n",
       "      <td>18.8</td>\n",
       "      <td>1.939764</td>\n",
       "      <td>0</td>\n",
       "      <td>1</td>\n",
       "      <td>South</td>\n",
       "      <td>1981</td>\n",
       "      <td>1</td>\n",
       "      <td>3</td>\n",
       "    </tr>\n",
       "    <tr>\n",
       "      <th>1981-01-04</th>\n",
       "      <td>14.6</td>\n",
       "      <td>2.507106</td>\n",
       "      <td>1</td>\n",
       "      <td>1</td>\n",
       "      <td>North</td>\n",
       "      <td>1981</td>\n",
       "      <td>1</td>\n",
       "      <td>4</td>\n",
       "    </tr>\n",
       "    <tr>\n",
       "      <th>1981-01-05</th>\n",
       "      <td>15.8</td>\n",
       "      <td>2.401059</td>\n",
       "      <td>0</td>\n",
       "      <td>0</td>\n",
       "      <td>North</td>\n",
       "      <td>1981</td>\n",
       "      <td>1</td>\n",
       "      <td>5</td>\n",
       "    </tr>\n",
       "  </tbody>\n",
       "</table>\n",
       "</div>"
      ],
      "text/plain": [
       "            Sales_Volume     Price  Promotions  Holiday Region  Year  Month  \\\n",
       "Date                                                                          \n",
       "1981-01-01          20.7  1.578404           0        0  North  1981      1   \n",
       "1981-01-02          17.9  2.772377           1        0  North  1981      1   \n",
       "1981-01-03          18.8  1.939764           0        1  South  1981      1   \n",
       "1981-01-04          14.6  2.507106           1        1  North  1981      1   \n",
       "1981-01-05          15.8  2.401059           0        0  North  1981      1   \n",
       "\n",
       "            Day  \n",
       "Date             \n",
       "1981-01-01    1  \n",
       "1981-01-02    2  \n",
       "1981-01-03    3  \n",
       "1981-01-04    4  \n",
       "1981-01-05    5  "
      ]
     },
     "execution_count": 14,
     "metadata": {},
     "output_type": "execute_result"
    }
   ],
   "source": [
    "data.head()"
   ]
  },
  {
   "cell_type": "code",
   "execution_count": 23,
   "id": "5430d120-f16b-4f40-819d-c42484982743",
   "metadata": {},
   "outputs": [
    {
     "name": "stdout",
     "output_type": "stream",
     "text": [
      "DataFrame saved to beverage_sales_data.csv\n"
     ]
    }
   ],
   "source": [
    "# Saving the DataFrame to a CSV file\n",
    "output_file = \"beverage_sales_data.csv\"  # Specify the file name\n",
    "data.to_csv(output_file, index=True)  # `index=True` will include the index in the file\n",
    "print(f\"DataFrame saved to {output_file}\")\n"
   ]
  },
  {
   "cell_type": "code",
   "execution_count": null,
   "id": "dfe7e8e1-c9b9-4a4b-b74c-a1532ea477e6",
   "metadata": {},
   "outputs": [],
   "source": []
  },
  {
   "cell_type": "code",
   "execution_count": null,
   "id": "754e84a3-a7d9-45d0-a3f9-1938849dc071",
   "metadata": {},
   "outputs": [],
   "source": []
  }
 ],
 "metadata": {
  "kernelspec": {
   "display_name": "Python 3 (ipykernel)",
   "language": "python",
   "name": "python3"
  },
  "language_info": {
   "codemirror_mode": {
    "name": "ipython",
    "version": 3
   },
   "file_extension": ".py",
   "mimetype": "text/x-python",
   "name": "python",
   "nbconvert_exporter": "python",
   "pygments_lexer": "ipython3",
   "version": "3.12.3"
  }
 },
 "nbformat": 4,
 "nbformat_minor": 5
}
