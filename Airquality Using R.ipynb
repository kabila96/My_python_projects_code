{
 "cells": [
  {
   "cell_type": "code",
   "execution_count": 1,
   "id": "73042fc5-992b-4244-9360-59a8a31af05c",
   "metadata": {},
   "outputs": [
    {
     "data": {
      "text/html": [
       "\n",
       "<table width=\"100%\" summary=\"page for airquality {datasets}\"><tr><td>airquality {datasets}</td><td style=\"text-align: right;\">R Documentation</td></tr></table>\n",
       "\n",
       "<h2>New York Air Quality Measurements</h2>\n",
       "\n",
       "<h3>Description</h3>\n",
       "\n",
       "<p>Daily air quality measurements in New York, May to September 1973.\n",
       "</p>\n",
       "\n",
       "\n",
       "<h3>Usage</h3>\n",
       "\n",
       "<pre>airquality</pre>\n",
       "\n",
       "\n",
       "<h3>Format</h3>\n",
       "\n",
       "<p>A data frame with 153 observations on 6 variables.\n",
       "</p>\n",
       "\n",
       "<table summary=\"Rd table\">\n",
       "<tr>\n",
       " <td style=\"text-align: right;\">\n",
       "    <code>[,1]</code> </td><td style=\"text-align: left;\"> <code>Ozone</code>   </td><td style=\"text-align: left;\"> numeric </td><td style=\"text-align: left;\"> Ozone (ppb)</td>\n",
       "</tr>\n",
       "<tr>\n",
       " <td style=\"text-align: right;\">\n",
       "    <code>[,2]</code> </td><td style=\"text-align: left;\"> <code>Solar.R</code> </td><td style=\"text-align: left;\"> numeric </td><td style=\"text-align: left;\"> Solar R (lang)</td>\n",
       "</tr>\n",
       "<tr>\n",
       " <td style=\"text-align: right;\">\n",
       "    <code>[,3]</code> </td><td style=\"text-align: left;\"> <code>Wind</code>    </td><td style=\"text-align: left;\"> numeric </td><td style=\"text-align: left;\"> Wind (mph)</td>\n",
       "</tr>\n",
       "<tr>\n",
       " <td style=\"text-align: right;\">\n",
       "    <code>[,4]</code> </td><td style=\"text-align: left;\"> <code>Temp</code>    </td><td style=\"text-align: left;\"> numeric </td><td style=\"text-align: left;\"> Temperature (degrees F)</td>\n",
       "</tr>\n",
       "<tr>\n",
       " <td style=\"text-align: right;\">\n",
       "    <code>[,5]</code> </td><td style=\"text-align: left;\"> <code>Month</code>   </td><td style=\"text-align: left;\"> numeric </td><td style=\"text-align: left;\"> Month (1--12)</td>\n",
       "</tr>\n",
       "<tr>\n",
       " <td style=\"text-align: right;\">\n",
       "    <code>[,6]</code> </td><td style=\"text-align: left;\"> <code>Day</code>     </td><td style=\"text-align: left;\"> numeric </td><td style=\"text-align: left;\"> Day of month (1--31)\n",
       "  </td>\n",
       "</tr>\n",
       "\n",
       "</table>\n",
       "\n",
       "\n",
       "\n",
       "<h3>Details</h3>\n",
       "\n",
       "<p>Daily readings of the following air quality values for May 1, 1973 (a\n",
       "Tuesday) to September 30, 1973.\n",
       "</p>\n",
       "\n",
       "<ul>\n",
       "<li> <p><code>Ozone</code>: Mean ozone in parts per\n",
       "billion from 1300 to 1500 hours at Roosevelt Island\n",
       "</p>\n",
       "</li>\n",
       "<li> <p><code>Solar.R</code>: Solar radiation\n",
       "in Langleys in the frequency band 4000&ndash;7700 Angstroms from\n",
       "0800 to 1200 hours at Central Park\n",
       "</p>\n",
       "</li>\n",
       "<li> <p><code>Wind</code>: Average wind speed in miles\n",
       "per hour at 0700 and 1000 hours at LaGuardia Airport\n",
       "</p>\n",
       "</li>\n",
       "<li> <p><code>Temp</code>: Maximum daily\n",
       "temperature in degrees Fahrenheit at La Guardia Airport.\n",
       "</p>\n",
       "</li></ul>\n",
       "\n",
       "\n",
       "\n",
       "<h3>Source</h3>\n",
       "\n",
       "<p>The data were obtained from the New York State Department of\n",
       "Conservation (ozone data) and the National Weather Service\n",
       "(meteorological data).\n",
       "</p>\n",
       "\n",
       "\n",
       "<h3>References</h3>\n",
       "\n",
       "<p>Chambers, J. M., Cleveland, W. S., Kleiner, B. and Tukey, P. A. (1983)\n",
       "<em>Graphical Methods for Data Analysis</em>.\n",
       "Belmont, CA: Wadsworth.\n",
       "</p>\n",
       "\n",
       "\n",
       "<h3>Examples</h3>\n",
       "\n",
       "<pre>\n",
       "require(graphics)\n",
       "pairs(airquality, panel = panel.smooth, main = \"airquality data\")\n",
       "</pre>\n",
       "\n",
       "<hr /><div style=\"text-align: center;\">[Package <em>datasets</em> version 4.1.3 ]</div>"
      ],
      "text/latex": [
       "\\inputencoding{utf8}\n",
       "\\HeaderA{airquality}{New York Air Quality Measurements}{airquality}\n",
       "\\keyword{datasets}{airquality}\n",
       "%\n",
       "\\begin{Description}\\relax\n",
       "Daily air quality measurements in New York, May to September 1973.\n",
       "\\end{Description}\n",
       "%\n",
       "\\begin{Usage}\n",
       "\\begin{verbatim}\n",
       "airquality\n",
       "\\end{verbatim}\n",
       "\\end{Usage}\n",
       "%\n",
       "\\begin{Format}\n",
       "A data frame with 153 observations on 6 variables.\n",
       "\n",
       "\n",
       "\\Tabular{rlll}{\n",
       "\\code{[,1]} & \\code{Ozone}   & numeric & Ozone (ppb)\\\\{}\n",
       "\\code{[,2]} & \\code{Solar.R} & numeric & Solar R (lang)\\\\{}\n",
       "\\code{[,3]} & \\code{Wind}    & numeric & Wind (mph)\\\\{}\n",
       "\\code{[,4]} & \\code{Temp}    & numeric & Temperature (degrees F)\\\\{}\n",
       "\\code{[,5]} & \\code{Month}   & numeric & Month (1--12)\\\\{}\n",
       "\\code{[,6]} & \\code{Day}     & numeric & Day of month (1--31)\n",
       "}\n",
       "\\end{Format}\n",
       "%\n",
       "\\begin{Details}\\relax\n",
       "Daily readings of the following air quality values for May 1, 1973 (a\n",
       "Tuesday) to September 30, 1973.\n",
       "\n",
       "\\begin{itemize}\n",
       "\n",
       "\\item{} \\code{Ozone}: Mean ozone in parts per\n",
       "billion from 1300 to 1500 hours at Roosevelt Island\n",
       "\\item{} \\code{Solar.R}: Solar radiation\n",
       "in Langleys in the frequency band 4000--7700 Angstroms from\n",
       "0800 to 1200 hours at Central Park\n",
       "\\item{} \\code{Wind}: Average wind speed in miles\n",
       "per hour at 0700 and 1000 hours at LaGuardia Airport\n",
       "\\item{} \\code{Temp}: Maximum daily\n",
       "temperature in degrees Fahrenheit at La Guardia Airport.\n",
       "\n",
       "\\end{itemize}\n",
       "\n",
       "\\end{Details}\n",
       "%\n",
       "\\begin{Source}\\relax\n",
       "The data were obtained from the New York State Department of\n",
       "Conservation (ozone data) and the National Weather Service\n",
       "(meteorological data).\n",
       "\\end{Source}\n",
       "%\n",
       "\\begin{References}\\relax\n",
       "Chambers, J. M., Cleveland, W. S., Kleiner, B. and Tukey, P. A. (1983)\n",
       "\\emph{Graphical Methods for Data Analysis}.\n",
       "Belmont, CA: Wadsworth.\n",
       "\\end{References}\n",
       "%\n",
       "\\begin{Examples}\n",
       "\\begin{ExampleCode}\n",
       "require(graphics)\n",
       "pairs(airquality, panel = panel.smooth, main = \"airquality data\")\n",
       "\\end{ExampleCode}\n",
       "\\end{Examples}"
      ],
      "text/plain": [
       "airquality              package:datasets               R Documentation\n",
       "\n",
       "_\bN_\be_\bw _\bY_\bo_\br_\bk _\bA_\bi_\br _\bQ_\bu_\ba_\bl_\bi_\bt_\by _\bM_\be_\ba_\bs_\bu_\br_\be_\bm_\be_\bn_\bt_\bs\n",
       "\n",
       "_\bD_\be_\bs_\bc_\br_\bi_\bp_\bt_\bi_\bo_\bn:\n",
       "\n",
       "     Daily air quality measurements in New York, May to September 1973.\n",
       "\n",
       "_\bU_\bs_\ba_\bg_\be:\n",
       "\n",
       "     airquality\n",
       "     \n",
       "_\bF_\bo_\br_\bm_\ba_\bt:\n",
       "\n",
       "     A data frame with 153 observations on 6 variables.\n",
       "\n",
       "       '[,1]'  'Ozone'    numeric  Ozone (ppb)             \n",
       "       '[,2]'  'Solar.R'  numeric  Solar R (lang)          \n",
       "       '[,3]'  'Wind'     numeric  Wind (mph)              \n",
       "       '[,4]'  'Temp'     numeric  Temperature (degrees F) \n",
       "       '[,5]'  'Month'    numeric  Month (1-12)            \n",
       "       '[,6]'  'Day'      numeric  Day of month (1-31)     \n",
       "      \n",
       "_\bD_\be_\bt_\ba_\bi_\bl_\bs:\n",
       "\n",
       "     Daily readings of the following air quality values for May 1, 1973\n",
       "     (a Tuesday) to September 30, 1973.\n",
       "\n",
       "        â€¢ 'Ozone': Mean ozone in parts per billion from 1300 to 1500\n",
       "          hours at Roosevelt Island\n",
       "\n",
       "        â€¢ 'Solar.R': Solar radiation in Langleys in the frequency band\n",
       "          4000-7700 Angstroms from 0800 to 1200 hours at Central Park\n",
       "\n",
       "        â€¢ 'Wind': Average wind speed in miles per hour at 0700 and 1000\n",
       "          hours at LaGuardia Airport\n",
       "\n",
       "        â€¢ 'Temp': Maximum daily temperature in degrees Fahrenheit at La\n",
       "          Guardia Airport.\n",
       "\n",
       "_\bS_\bo_\bu_\br_\bc_\be:\n",
       "\n",
       "     The data were obtained from the New York State Department of\n",
       "     Conservation (ozone data) and the National Weather Service\n",
       "     (meteorological data).\n",
       "\n",
       "_\bR_\be_\bf_\be_\br_\be_\bn_\bc_\be_\bs:\n",
       "\n",
       "     Chambers, J. M., Cleveland, W. S., Kleiner, B. and Tukey, P. A.\n",
       "     (1983) _Graphical Methods for Data Analysis_.  Belmont, CA:\n",
       "     Wadsworth.\n",
       "\n",
       "_\bE_\bx_\ba_\bm_\bp_\bl_\be_\bs:\n",
       "\n",
       "     require(graphics)\n",
       "     pairs(airquality, panel = panel.smooth, main = \"airquality data\")\n",
       "     "
      ]
     },
     "metadata": {},
     "output_type": "display_data"
    }
   ],
   "source": [
    "?airquality"
   ]
  },
  {
   "cell_type": "code",
   "execution_count": 2,
   "id": "7fcd9901-e740-418c-9f6f-73554e4fc6d0",
   "metadata": {},
   "outputs": [],
   "source": [
    "data(airquality)"
   ]
  },
  {
   "cell_type": "code",
   "execution_count": 3,
   "id": "0ceb6919-81be-447b-97fc-77f9a9a7a222",
   "metadata": {},
   "outputs": [
    {
     "data": {
      "text/html": [
       "<table class=\"dataframe\">\n",
       "<caption>A data.frame: 6 × 6</caption>\n",
       "<thead>\n",
       "\t<tr><th></th><th scope=col>Ozone</th><th scope=col>Solar.R</th><th scope=col>Wind</th><th scope=col>Temp</th><th scope=col>Month</th><th scope=col>Day</th></tr>\n",
       "\t<tr><th></th><th scope=col>&lt;int&gt;</th><th scope=col>&lt;int&gt;</th><th scope=col>&lt;dbl&gt;</th><th scope=col>&lt;int&gt;</th><th scope=col>&lt;int&gt;</th><th scope=col>&lt;int&gt;</th></tr>\n",
       "</thead>\n",
       "<tbody>\n",
       "\t<tr><th scope=row>1</th><td>41</td><td>190</td><td> 7.4</td><td>67</td><td>5</td><td>1</td></tr>\n",
       "\t<tr><th scope=row>2</th><td>36</td><td>118</td><td> 8.0</td><td>72</td><td>5</td><td>2</td></tr>\n",
       "\t<tr><th scope=row>3</th><td>12</td><td>149</td><td>12.6</td><td>74</td><td>5</td><td>3</td></tr>\n",
       "\t<tr><th scope=row>4</th><td>18</td><td>313</td><td>11.5</td><td>62</td><td>5</td><td>4</td></tr>\n",
       "\t<tr><th scope=row>5</th><td>NA</td><td> NA</td><td>14.3</td><td>56</td><td>5</td><td>5</td></tr>\n",
       "\t<tr><th scope=row>6</th><td>28</td><td> NA</td><td>14.9</td><td>66</td><td>5</td><td>6</td></tr>\n",
       "</tbody>\n",
       "</table>\n"
      ],
      "text/latex": [
       "A data.frame: 6 × 6\n",
       "\\begin{tabular}{r|llllll}\n",
       "  & Ozone & Solar.R & Wind & Temp & Month & Day\\\\\n",
       "  & <int> & <int> & <dbl> & <int> & <int> & <int>\\\\\n",
       "\\hline\n",
       "\t1 & 41 & 190 &  7.4 & 67 & 5 & 1\\\\\n",
       "\t2 & 36 & 118 &  8.0 & 72 & 5 & 2\\\\\n",
       "\t3 & 12 & 149 & 12.6 & 74 & 5 & 3\\\\\n",
       "\t4 & 18 & 313 & 11.5 & 62 & 5 & 4\\\\\n",
       "\t5 & NA &  NA & 14.3 & 56 & 5 & 5\\\\\n",
       "\t6 & 28 &  NA & 14.9 & 66 & 5 & 6\\\\\n",
       "\\end{tabular}\n"
      ],
      "text/markdown": [
       "\n",
       "A data.frame: 6 × 6\n",
       "\n",
       "| <!--/--> | Ozone &lt;int&gt; | Solar.R &lt;int&gt; | Wind &lt;dbl&gt; | Temp &lt;int&gt; | Month &lt;int&gt; | Day &lt;int&gt; |\n",
       "|---|---|---|---|---|---|---|\n",
       "| 1 | 41 | 190 |  7.4 | 67 | 5 | 1 |\n",
       "| 2 | 36 | 118 |  8.0 | 72 | 5 | 2 |\n",
       "| 3 | 12 | 149 | 12.6 | 74 | 5 | 3 |\n",
       "| 4 | 18 | 313 | 11.5 | 62 | 5 | 4 |\n",
       "| 5 | NA |  NA | 14.3 | 56 | 5 | 5 |\n",
       "| 6 | 28 |  NA | 14.9 | 66 | 5 | 6 |\n",
       "\n"
      ],
      "text/plain": [
       "  Ozone Solar.R Wind Temp Month Day\n",
       "1 41    190      7.4 67   5     1  \n",
       "2 36    118      8.0 72   5     2  \n",
       "3 12    149     12.6 74   5     3  \n",
       "4 18    313     11.5 62   5     4  \n",
       "5 NA     NA     14.3 56   5     5  \n",
       "6 28     NA     14.9 66   5     6  "
      ]
     },
     "metadata": {},
     "output_type": "display_data"
    }
   ],
   "source": [
    "# View the first few rows of the dataset\n",
    "head(airquality)"
   ]
  },
  {
   "cell_type": "code",
   "execution_count": 4,
   "id": "88ffbac3-5ac2-4960-9554-171128a14200",
   "metadata": {},
   "outputs": [
    {
     "data": {
      "text/html": [
       "<table class=\"dataframe\">\n",
       "<caption>A data.frame: 153 × 6</caption>\n",
       "<thead>\n",
       "\t<tr><th scope=col>Ozone</th><th scope=col>Solar.R</th><th scope=col>Wind</th><th scope=col>Temp</th><th scope=col>Month</th><th scope=col>Day</th></tr>\n",
       "\t<tr><th scope=col>&lt;int&gt;</th><th scope=col>&lt;int&gt;</th><th scope=col>&lt;dbl&gt;</th><th scope=col>&lt;int&gt;</th><th scope=col>&lt;int&gt;</th><th scope=col>&lt;int&gt;</th></tr>\n",
       "</thead>\n",
       "<tbody>\n",
       "\t<tr><td> 41</td><td>190</td><td> 7.4</td><td>67</td><td>5</td><td> 1</td></tr>\n",
       "\t<tr><td> 36</td><td>118</td><td> 8.0</td><td>72</td><td>5</td><td> 2</td></tr>\n",
       "\t<tr><td> 12</td><td>149</td><td>12.6</td><td>74</td><td>5</td><td> 3</td></tr>\n",
       "\t<tr><td> 18</td><td>313</td><td>11.5</td><td>62</td><td>5</td><td> 4</td></tr>\n",
       "\t<tr><td> NA</td><td> NA</td><td>14.3</td><td>56</td><td>5</td><td> 5</td></tr>\n",
       "\t<tr><td> 28</td><td> NA</td><td>14.9</td><td>66</td><td>5</td><td> 6</td></tr>\n",
       "\t<tr><td> 23</td><td>299</td><td> 8.6</td><td>65</td><td>5</td><td> 7</td></tr>\n",
       "\t<tr><td> 19</td><td> 99</td><td>13.8</td><td>59</td><td>5</td><td> 8</td></tr>\n",
       "\t<tr><td>  8</td><td> 19</td><td>20.1</td><td>61</td><td>5</td><td> 9</td></tr>\n",
       "\t<tr><td> NA</td><td>194</td><td> 8.6</td><td>69</td><td>5</td><td>10</td></tr>\n",
       "\t<tr><td>  7</td><td> NA</td><td> 6.9</td><td>74</td><td>5</td><td>11</td></tr>\n",
       "\t<tr><td> 16</td><td>256</td><td> 9.7</td><td>69</td><td>5</td><td>12</td></tr>\n",
       "\t<tr><td> 11</td><td>290</td><td> 9.2</td><td>66</td><td>5</td><td>13</td></tr>\n",
       "\t<tr><td> 14</td><td>274</td><td>10.9</td><td>68</td><td>5</td><td>14</td></tr>\n",
       "\t<tr><td> 18</td><td> 65</td><td>13.2</td><td>58</td><td>5</td><td>15</td></tr>\n",
       "\t<tr><td> 14</td><td>334</td><td>11.5</td><td>64</td><td>5</td><td>16</td></tr>\n",
       "\t<tr><td> 34</td><td>307</td><td>12.0</td><td>66</td><td>5</td><td>17</td></tr>\n",
       "\t<tr><td>  6</td><td> 78</td><td>18.4</td><td>57</td><td>5</td><td>18</td></tr>\n",
       "\t<tr><td> 30</td><td>322</td><td>11.5</td><td>68</td><td>5</td><td>19</td></tr>\n",
       "\t<tr><td> 11</td><td> 44</td><td> 9.7</td><td>62</td><td>5</td><td>20</td></tr>\n",
       "\t<tr><td>  1</td><td>  8</td><td> 9.7</td><td>59</td><td>5</td><td>21</td></tr>\n",
       "\t<tr><td> 11</td><td>320</td><td>16.6</td><td>73</td><td>5</td><td>22</td></tr>\n",
       "\t<tr><td>  4</td><td> 25</td><td> 9.7</td><td>61</td><td>5</td><td>23</td></tr>\n",
       "\t<tr><td> 32</td><td> 92</td><td>12.0</td><td>61</td><td>5</td><td>24</td></tr>\n",
       "\t<tr><td> NA</td><td> 66</td><td>16.6</td><td>57</td><td>5</td><td>25</td></tr>\n",
       "\t<tr><td> NA</td><td>266</td><td>14.9</td><td>58</td><td>5</td><td>26</td></tr>\n",
       "\t<tr><td> NA</td><td> NA</td><td> 8.0</td><td>57</td><td>5</td><td>27</td></tr>\n",
       "\t<tr><td> 23</td><td> 13</td><td>12.0</td><td>67</td><td>5</td><td>28</td></tr>\n",
       "\t<tr><td> 45</td><td>252</td><td>14.9</td><td>81</td><td>5</td><td>29</td></tr>\n",
       "\t<tr><td>115</td><td>223</td><td> 5.7</td><td>79</td><td>5</td><td>30</td></tr>\n",
       "\t<tr><td>...</td><td>...</td><td>...</td><td>...</td><td>...</td><td>...</td></tr>\n",
       "\t<tr><td>96</td><td>167</td><td> 6.9</td><td>91</td><td>9</td><td> 1</td></tr>\n",
       "\t<tr><td>78</td><td>197</td><td> 5.1</td><td>92</td><td>9</td><td> 2</td></tr>\n",
       "\t<tr><td>73</td><td>183</td><td> 2.8</td><td>93</td><td>9</td><td> 3</td></tr>\n",
       "\t<tr><td>91</td><td>189</td><td> 4.6</td><td>93</td><td>9</td><td> 4</td></tr>\n",
       "\t<tr><td>47</td><td> 95</td><td> 7.4</td><td>87</td><td>9</td><td> 5</td></tr>\n",
       "\t<tr><td>32</td><td> 92</td><td>15.5</td><td>84</td><td>9</td><td> 6</td></tr>\n",
       "\t<tr><td>20</td><td>252</td><td>10.9</td><td>80</td><td>9</td><td> 7</td></tr>\n",
       "\t<tr><td>23</td><td>220</td><td>10.3</td><td>78</td><td>9</td><td> 8</td></tr>\n",
       "\t<tr><td>21</td><td>230</td><td>10.9</td><td>75</td><td>9</td><td> 9</td></tr>\n",
       "\t<tr><td>24</td><td>259</td><td> 9.7</td><td>73</td><td>9</td><td>10</td></tr>\n",
       "\t<tr><td>44</td><td>236</td><td>14.9</td><td>81</td><td>9</td><td>11</td></tr>\n",
       "\t<tr><td>21</td><td>259</td><td>15.5</td><td>76</td><td>9</td><td>12</td></tr>\n",
       "\t<tr><td>28</td><td>238</td><td> 6.3</td><td>77</td><td>9</td><td>13</td></tr>\n",
       "\t<tr><td> 9</td><td> 24</td><td>10.9</td><td>71</td><td>9</td><td>14</td></tr>\n",
       "\t<tr><td>13</td><td>112</td><td>11.5</td><td>71</td><td>9</td><td>15</td></tr>\n",
       "\t<tr><td>46</td><td>237</td><td> 6.9</td><td>78</td><td>9</td><td>16</td></tr>\n",
       "\t<tr><td>18</td><td>224</td><td>13.8</td><td>67</td><td>9</td><td>17</td></tr>\n",
       "\t<tr><td>13</td><td> 27</td><td>10.3</td><td>76</td><td>9</td><td>18</td></tr>\n",
       "\t<tr><td>24</td><td>238</td><td>10.3</td><td>68</td><td>9</td><td>19</td></tr>\n",
       "\t<tr><td>16</td><td>201</td><td> 8.0</td><td>82</td><td>9</td><td>20</td></tr>\n",
       "\t<tr><td>13</td><td>238</td><td>12.6</td><td>64</td><td>9</td><td>21</td></tr>\n",
       "\t<tr><td>23</td><td> 14</td><td> 9.2</td><td>71</td><td>9</td><td>22</td></tr>\n",
       "\t<tr><td>36</td><td>139</td><td>10.3</td><td>81</td><td>9</td><td>23</td></tr>\n",
       "\t<tr><td> 7</td><td> 49</td><td>10.3</td><td>69</td><td>9</td><td>24</td></tr>\n",
       "\t<tr><td>14</td><td> 20</td><td>16.6</td><td>63</td><td>9</td><td>25</td></tr>\n",
       "\t<tr><td>30</td><td>193</td><td> 6.9</td><td>70</td><td>9</td><td>26</td></tr>\n",
       "\t<tr><td>NA</td><td>145</td><td>13.2</td><td>77</td><td>9</td><td>27</td></tr>\n",
       "\t<tr><td>14</td><td>191</td><td>14.3</td><td>75</td><td>9</td><td>28</td></tr>\n",
       "\t<tr><td>18</td><td>131</td><td> 8.0</td><td>76</td><td>9</td><td>29</td></tr>\n",
       "\t<tr><td>20</td><td>223</td><td>11.5</td><td>68</td><td>9</td><td>30</td></tr>\n",
       "</tbody>\n",
       "</table>\n"
      ],
      "text/latex": [
       "A data.frame: 153 × 6\n",
       "\\begin{tabular}{llllll}\n",
       " Ozone & Solar.R & Wind & Temp & Month & Day\\\\\n",
       " <int> & <int> & <dbl> & <int> & <int> & <int>\\\\\n",
       "\\hline\n",
       "\t  41 & 190 &  7.4 & 67 & 5 &  1\\\\\n",
       "\t  36 & 118 &  8.0 & 72 & 5 &  2\\\\\n",
       "\t  12 & 149 & 12.6 & 74 & 5 &  3\\\\\n",
       "\t  18 & 313 & 11.5 & 62 & 5 &  4\\\\\n",
       "\t  NA &  NA & 14.3 & 56 & 5 &  5\\\\\n",
       "\t  28 &  NA & 14.9 & 66 & 5 &  6\\\\\n",
       "\t  23 & 299 &  8.6 & 65 & 5 &  7\\\\\n",
       "\t  19 &  99 & 13.8 & 59 & 5 &  8\\\\\n",
       "\t   8 &  19 & 20.1 & 61 & 5 &  9\\\\\n",
       "\t  NA & 194 &  8.6 & 69 & 5 & 10\\\\\n",
       "\t   7 &  NA &  6.9 & 74 & 5 & 11\\\\\n",
       "\t  16 & 256 &  9.7 & 69 & 5 & 12\\\\\n",
       "\t  11 & 290 &  9.2 & 66 & 5 & 13\\\\\n",
       "\t  14 & 274 & 10.9 & 68 & 5 & 14\\\\\n",
       "\t  18 &  65 & 13.2 & 58 & 5 & 15\\\\\n",
       "\t  14 & 334 & 11.5 & 64 & 5 & 16\\\\\n",
       "\t  34 & 307 & 12.0 & 66 & 5 & 17\\\\\n",
       "\t   6 &  78 & 18.4 & 57 & 5 & 18\\\\\n",
       "\t  30 & 322 & 11.5 & 68 & 5 & 19\\\\\n",
       "\t  11 &  44 &  9.7 & 62 & 5 & 20\\\\\n",
       "\t   1 &   8 &  9.7 & 59 & 5 & 21\\\\\n",
       "\t  11 & 320 & 16.6 & 73 & 5 & 22\\\\\n",
       "\t   4 &  25 &  9.7 & 61 & 5 & 23\\\\\n",
       "\t  32 &  92 & 12.0 & 61 & 5 & 24\\\\\n",
       "\t  NA &  66 & 16.6 & 57 & 5 & 25\\\\\n",
       "\t  NA & 266 & 14.9 & 58 & 5 & 26\\\\\n",
       "\t  NA &  NA &  8.0 & 57 & 5 & 27\\\\\n",
       "\t  23 &  13 & 12.0 & 67 & 5 & 28\\\\\n",
       "\t  45 & 252 & 14.9 & 81 & 5 & 29\\\\\n",
       "\t 115 & 223 &  5.7 & 79 & 5 & 30\\\\\n",
       "\t ... & ... & ... & ... & ... & ...\\\\\n",
       "\t 96 & 167 &  6.9 & 91 & 9 &  1\\\\\n",
       "\t 78 & 197 &  5.1 & 92 & 9 &  2\\\\\n",
       "\t 73 & 183 &  2.8 & 93 & 9 &  3\\\\\n",
       "\t 91 & 189 &  4.6 & 93 & 9 &  4\\\\\n",
       "\t 47 &  95 &  7.4 & 87 & 9 &  5\\\\\n",
       "\t 32 &  92 & 15.5 & 84 & 9 &  6\\\\\n",
       "\t 20 & 252 & 10.9 & 80 & 9 &  7\\\\\n",
       "\t 23 & 220 & 10.3 & 78 & 9 &  8\\\\\n",
       "\t 21 & 230 & 10.9 & 75 & 9 &  9\\\\\n",
       "\t 24 & 259 &  9.7 & 73 & 9 & 10\\\\\n",
       "\t 44 & 236 & 14.9 & 81 & 9 & 11\\\\\n",
       "\t 21 & 259 & 15.5 & 76 & 9 & 12\\\\\n",
       "\t 28 & 238 &  6.3 & 77 & 9 & 13\\\\\n",
       "\t  9 &  24 & 10.9 & 71 & 9 & 14\\\\\n",
       "\t 13 & 112 & 11.5 & 71 & 9 & 15\\\\\n",
       "\t 46 & 237 &  6.9 & 78 & 9 & 16\\\\\n",
       "\t 18 & 224 & 13.8 & 67 & 9 & 17\\\\\n",
       "\t 13 &  27 & 10.3 & 76 & 9 & 18\\\\\n",
       "\t 24 & 238 & 10.3 & 68 & 9 & 19\\\\\n",
       "\t 16 & 201 &  8.0 & 82 & 9 & 20\\\\\n",
       "\t 13 & 238 & 12.6 & 64 & 9 & 21\\\\\n",
       "\t 23 &  14 &  9.2 & 71 & 9 & 22\\\\\n",
       "\t 36 & 139 & 10.3 & 81 & 9 & 23\\\\\n",
       "\t  7 &  49 & 10.3 & 69 & 9 & 24\\\\\n",
       "\t 14 &  20 & 16.6 & 63 & 9 & 25\\\\\n",
       "\t 30 & 193 &  6.9 & 70 & 9 & 26\\\\\n",
       "\t NA & 145 & 13.2 & 77 & 9 & 27\\\\\n",
       "\t 14 & 191 & 14.3 & 75 & 9 & 28\\\\\n",
       "\t 18 & 131 &  8.0 & 76 & 9 & 29\\\\\n",
       "\t 20 & 223 & 11.5 & 68 & 9 & 30\\\\\n",
       "\\end{tabular}\n"
      ],
      "text/markdown": [
       "\n",
       "A data.frame: 153 × 6\n",
       "\n",
       "| Ozone &lt;int&gt; | Solar.R &lt;int&gt; | Wind &lt;dbl&gt; | Temp &lt;int&gt; | Month &lt;int&gt; | Day &lt;int&gt; |\n",
       "|---|---|---|---|---|---|\n",
       "|  41 | 190 |  7.4 | 67 | 5 |  1 |\n",
       "|  36 | 118 |  8.0 | 72 | 5 |  2 |\n",
       "|  12 | 149 | 12.6 | 74 | 5 |  3 |\n",
       "|  18 | 313 | 11.5 | 62 | 5 |  4 |\n",
       "|  NA |  NA | 14.3 | 56 | 5 |  5 |\n",
       "|  28 |  NA | 14.9 | 66 | 5 |  6 |\n",
       "|  23 | 299 |  8.6 | 65 | 5 |  7 |\n",
       "|  19 |  99 | 13.8 | 59 | 5 |  8 |\n",
       "|   8 |  19 | 20.1 | 61 | 5 |  9 |\n",
       "|  NA | 194 |  8.6 | 69 | 5 | 10 |\n",
       "|   7 |  NA |  6.9 | 74 | 5 | 11 |\n",
       "|  16 | 256 |  9.7 | 69 | 5 | 12 |\n",
       "|  11 | 290 |  9.2 | 66 | 5 | 13 |\n",
       "|  14 | 274 | 10.9 | 68 | 5 | 14 |\n",
       "|  18 |  65 | 13.2 | 58 | 5 | 15 |\n",
       "|  14 | 334 | 11.5 | 64 | 5 | 16 |\n",
       "|  34 | 307 | 12.0 | 66 | 5 | 17 |\n",
       "|   6 |  78 | 18.4 | 57 | 5 | 18 |\n",
       "|  30 | 322 | 11.5 | 68 | 5 | 19 |\n",
       "|  11 |  44 |  9.7 | 62 | 5 | 20 |\n",
       "|   1 |   8 |  9.7 | 59 | 5 | 21 |\n",
       "|  11 | 320 | 16.6 | 73 | 5 | 22 |\n",
       "|   4 |  25 |  9.7 | 61 | 5 | 23 |\n",
       "|  32 |  92 | 12.0 | 61 | 5 | 24 |\n",
       "|  NA |  66 | 16.6 | 57 | 5 | 25 |\n",
       "|  NA | 266 | 14.9 | 58 | 5 | 26 |\n",
       "|  NA |  NA |  8.0 | 57 | 5 | 27 |\n",
       "|  23 |  13 | 12.0 | 67 | 5 | 28 |\n",
       "|  45 | 252 | 14.9 | 81 | 5 | 29 |\n",
       "| 115 | 223 |  5.7 | 79 | 5 | 30 |\n",
       "| ... | ... | ... | ... | ... | ... |\n",
       "| 96 | 167 |  6.9 | 91 | 9 |  1 |\n",
       "| 78 | 197 |  5.1 | 92 | 9 |  2 |\n",
       "| 73 | 183 |  2.8 | 93 | 9 |  3 |\n",
       "| 91 | 189 |  4.6 | 93 | 9 |  4 |\n",
       "| 47 |  95 |  7.4 | 87 | 9 |  5 |\n",
       "| 32 |  92 | 15.5 | 84 | 9 |  6 |\n",
       "| 20 | 252 | 10.9 | 80 | 9 |  7 |\n",
       "| 23 | 220 | 10.3 | 78 | 9 |  8 |\n",
       "| 21 | 230 | 10.9 | 75 | 9 |  9 |\n",
       "| 24 | 259 |  9.7 | 73 | 9 | 10 |\n",
       "| 44 | 236 | 14.9 | 81 | 9 | 11 |\n",
       "| 21 | 259 | 15.5 | 76 | 9 | 12 |\n",
       "| 28 | 238 |  6.3 | 77 | 9 | 13 |\n",
       "|  9 |  24 | 10.9 | 71 | 9 | 14 |\n",
       "| 13 | 112 | 11.5 | 71 | 9 | 15 |\n",
       "| 46 | 237 |  6.9 | 78 | 9 | 16 |\n",
       "| 18 | 224 | 13.8 | 67 | 9 | 17 |\n",
       "| 13 |  27 | 10.3 | 76 | 9 | 18 |\n",
       "| 24 | 238 | 10.3 | 68 | 9 | 19 |\n",
       "| 16 | 201 |  8.0 | 82 | 9 | 20 |\n",
       "| 13 | 238 | 12.6 | 64 | 9 | 21 |\n",
       "| 23 |  14 |  9.2 | 71 | 9 | 22 |\n",
       "| 36 | 139 | 10.3 | 81 | 9 | 23 |\n",
       "|  7 |  49 | 10.3 | 69 | 9 | 24 |\n",
       "| 14 |  20 | 16.6 | 63 | 9 | 25 |\n",
       "| 30 | 193 |  6.9 | 70 | 9 | 26 |\n",
       "| NA | 145 | 13.2 | 77 | 9 | 27 |\n",
       "| 14 | 191 | 14.3 | 75 | 9 | 28 |\n",
       "| 18 | 131 |  8.0 | 76 | 9 | 29 |\n",
       "| 20 | 223 | 11.5 | 68 | 9 | 30 |\n",
       "\n"
      ],
      "text/plain": [
       "    Ozone Solar.R Wind Temp Month Day\n",
       "1    41   190      7.4 67   5      1 \n",
       "2    36   118      8.0 72   5      2 \n",
       "3    12   149     12.6 74   5      3 \n",
       "4    18   313     11.5 62   5      4 \n",
       "5    NA    NA     14.3 56   5      5 \n",
       "6    28    NA     14.9 66   5      6 \n",
       "7    23   299      8.6 65   5      7 \n",
       "8    19    99     13.8 59   5      8 \n",
       "9     8    19     20.1 61   5      9 \n",
       "10   NA   194      8.6 69   5     10 \n",
       "11    7    NA      6.9 74   5     11 \n",
       "12   16   256      9.7 69   5     12 \n",
       "13   11   290      9.2 66   5     13 \n",
       "14   14   274     10.9 68   5     14 \n",
       "15   18    65     13.2 58   5     15 \n",
       "16   14   334     11.5 64   5     16 \n",
       "17   34   307     12.0 66   5     17 \n",
       "18    6    78     18.4 57   5     18 \n",
       "19   30   322     11.5 68   5     19 \n",
       "20   11    44      9.7 62   5     20 \n",
       "21    1     8      9.7 59   5     21 \n",
       "22   11   320     16.6 73   5     22 \n",
       "23    4    25      9.7 61   5     23 \n",
       "24   32    92     12.0 61   5     24 \n",
       "25   NA    66     16.6 57   5     25 \n",
       "26   NA   266     14.9 58   5     26 \n",
       "27   NA    NA      8.0 57   5     27 \n",
       "28   23    13     12.0 67   5     28 \n",
       "29   45   252     14.9 81   5     29 \n",
       "30  115   223      5.7 79   5     30 \n",
       "... ...   ...     ...  ...  ...   ...\n",
       "124 96    167      6.9 91   9      1 \n",
       "125 78    197      5.1 92   9      2 \n",
       "126 73    183      2.8 93   9      3 \n",
       "127 91    189      4.6 93   9      4 \n",
       "128 47     95      7.4 87   9      5 \n",
       "129 32     92     15.5 84   9      6 \n",
       "130 20    252     10.9 80   9      7 \n",
       "131 23    220     10.3 78   9      8 \n",
       "132 21    230     10.9 75   9      9 \n",
       "133 24    259      9.7 73   9     10 \n",
       "134 44    236     14.9 81   9     11 \n",
       "135 21    259     15.5 76   9     12 \n",
       "136 28    238      6.3 77   9     13 \n",
       "137  9     24     10.9 71   9     14 \n",
       "138 13    112     11.5 71   9     15 \n",
       "139 46    237      6.9 78   9     16 \n",
       "140 18    224     13.8 67   9     17 \n",
       "141 13     27     10.3 76   9     18 \n",
       "142 24    238     10.3 68   9     19 \n",
       "143 16    201      8.0 82   9     20 \n",
       "144 13    238     12.6 64   9     21 \n",
       "145 23     14      9.2 71   9     22 \n",
       "146 36    139     10.3 81   9     23 \n",
       "147  7     49     10.3 69   9     24 \n",
       "148 14     20     16.6 63   9     25 \n",
       "149 30    193      6.9 70   9     26 \n",
       "150 NA    145     13.2 77   9     27 \n",
       "151 14    191     14.3 75   9     28 \n",
       "152 18    131      8.0 76   9     29 \n",
       "153 20    223     11.5 68   9     30 "
      ]
     },
     "metadata": {},
     "output_type": "display_data"
    }
   ],
   "source": [
    "View(airquality)"
   ]
  },
  {
   "cell_type": "code",
   "execution_count": 5,
   "id": "4ed7004e-15b0-4b2c-89c5-94e3c95ff978",
   "metadata": {},
   "outputs": [
    {
     "name": "stdout",
     "output_type": "stream",
     "text": [
      "'data.frame':\t153 obs. of  6 variables:\n",
      " $ Ozone  : int  41 36 12 18 NA 28 23 19 8 NA ...\n",
      " $ Solar.R: int  190 118 149 313 NA NA 299 99 19 194 ...\n",
      " $ Wind   : num  7.4 8 12.6 11.5 14.3 14.9 8.6 13.8 20.1 8.6 ...\n",
      " $ Temp   : int  67 72 74 62 56 66 65 59 61 69 ...\n",
      " $ Month  : int  5 5 5 5 5 5 5 5 5 5 ...\n",
      " $ Day    : int  1 2 3 4 5 6 7 8 9 10 ...\n"
     ]
    }
   ],
   "source": [
    "# View the structure of the dataset\n",
    "str(airquality)"
   ]
  },
  {
   "cell_type": "code",
   "execution_count": 6,
   "id": "9576256e-8dba-4e78-bd53-fb015214a25a",
   "metadata": {},
   "outputs": [
    {
     "data": {
      "text/plain": [
       "     Ozone           Solar.R           Wind             Temp      \n",
       " Min.   :  1.00   Min.   :  7.0   Min.   : 1.700   Min.   :56.00  \n",
       " 1st Qu.: 18.00   1st Qu.:115.8   1st Qu.: 7.400   1st Qu.:72.00  \n",
       " Median : 31.50   Median :205.0   Median : 9.700   Median :79.00  \n",
       " Mean   : 42.13   Mean   :185.9   Mean   : 9.958   Mean   :77.88  \n",
       " 3rd Qu.: 63.25   3rd Qu.:258.8   3rd Qu.:11.500   3rd Qu.:85.00  \n",
       " Max.   :168.00   Max.   :334.0   Max.   :20.700   Max.   :97.00  \n",
       " NA's   :37       NA's   :7                                       \n",
       "     Month            Day      \n",
       " Min.   :5.000   Min.   : 1.0  \n",
       " 1st Qu.:6.000   1st Qu.: 8.0  \n",
       " Median :7.000   Median :16.0  \n",
       " Mean   :6.993   Mean   :15.8  \n",
       " 3rd Qu.:8.000   3rd Qu.:23.0  \n",
       " Max.   :9.000   Max.   :31.0  \n",
       "                               "
      ]
     },
     "metadata": {},
     "output_type": "display_data"
    }
   ],
   "source": [
    "# Summary statistics\n",
    "summary(airquality)"
   ]
  },
  {
   "cell_type": "code",
   "execution_count": 7,
   "id": "c48e4093-0617-420a-9f65-67fb5111334a",
   "metadata": {},
   "outputs": [
    {
     "data": {
      "text/html": [
       "<style>\n",
       ".dl-inline {width: auto; margin:0; padding: 0}\n",
       ".dl-inline>dt, .dl-inline>dd {float: none; width: auto; display: inline-block}\n",
       ".dl-inline>dt::after {content: \":\\0020\"; padding-right: .5ex}\n",
       ".dl-inline>dt:not(:first-of-type) {padding-left: .5ex}\n",
       "</style><dl class=dl-inline><dt>Ozone</dt><dd>37</dd><dt>Solar.R</dt><dd>7</dd><dt>Wind</dt><dd>0</dd><dt>Temp</dt><dd>0</dd><dt>Month</dt><dd>0</dd><dt>Day</dt><dd>0</dd></dl>\n"
      ],
      "text/latex": [
       "\\begin{description*}\n",
       "\\item[Ozone] 37\n",
       "\\item[Solar.R] 7\n",
       "\\item[Wind] 0\n",
       "\\item[Temp] 0\n",
       "\\item[Month] 0\n",
       "\\item[Day] 0\n",
       "\\end{description*}\n"
      ],
      "text/markdown": [
       "Ozone\n",
       ":   37Solar.R\n",
       ":   7Wind\n",
       ":   0Temp\n",
       ":   0Month\n",
       ":   0Day\n",
       ":   0\n",
       "\n"
      ],
      "text/plain": [
       "  Ozone Solar.R    Wind    Temp   Month     Day \n",
       "     37       7       0       0       0       0 "
      ]
     },
     "metadata": {},
     "output_type": "display_data"
    }
   ],
   "source": [
    "#Check  missing values\n",
    "colSums(is.na(airquality))"
   ]
  },
  {
   "cell_type": "code",
   "execution_count": 8,
   "id": "9442dc97-e01d-48c7-a1a4-2027368fa908",
   "metadata": {},
   "outputs": [],
   "source": [
    "# Alternatively, impute missing values with the median\n",
    "airquality$Ozone[is.na(airquality$Ozone)] = median(airquality$Ozone, na.rm = TRUE)"
   ]
  },
  {
   "cell_type": "code",
   "execution_count": 9,
   "id": "ec562564-7bc5-4dfd-b0ae-c502604b04e9",
   "metadata": {},
   "outputs": [
    {
     "data": {
      "image/png": "[encoded data removed]",
      "text/plain": [
       "Plot with title \"Histogram of Ozone Levels\""
      ]
     },
     "metadata": {
      "image/png": {
       "height": 420,
       "width": 420
      }
     },
     "output_type": "display_data"
    }
   ],
   "source": [
    "#Task 3: Visualize the Distribution of Ozone Levels\n",
    "# Histogram of Ozone levels\n",
    "hist(airquality$Ozone, main = \"Histogram of Ozone Levels\", xlab = \"Ozone (ppb)\", col = \"lightblue\", breaks = 20)"
   ]
  },
  {
   "cell_type": "code",
   "execution_count": 10,
   "id": "f304bc91-0392-461a-81ee-db10cd8a8cb9",
   "metadata": {},
   "outputs": [
    {
     "data": {
      "image/png": "[encoded data removed]",
      "text/plain": [
       "Plot with title \"Density Plot of Ozone Levels\""
      ]
     },
     "metadata": {
      "image/png": {
       "height": 420,
       "width": 420
      }
     },
     "output_type": "display_data"
    }
   ],
   "source": [
    "# Density plot of Ozone levels\n",
    "plot(density(airquality$Ozone, na.rm = TRUE), main = \"Density Plot of Ozone Levels\", xlab = \"Ozone (ppb)\", col = \"darkgreen\")"
   ]
  },
  {
   "cell_type": "code",
   "execution_count": 11,
   "id": "77c40b7a-4b7f-4537-9e7a-48ac9ca1968a",
   "metadata": {},
   "outputs": [
    {
     "data": {
      "text/html": [
       "<table class=\"dataframe\">\n",
       "<caption>A matrix: 6 × 6 of type dbl</caption>\n",
       "<thead>\n",
       "\t<tr><th></th><th scope=col>Ozone</th><th scope=col>Solar.R</th><th scope=col>Wind</th><th scope=col>Temp</th><th scope=col>Month</th><th scope=col>Day</th></tr>\n",
       "</thead>\n",
       "<tbody>\n",
       "\t<tr><th scope=row>Ozone</th><td> 1.000000000</td><td> 0.29991696</td><td>-0.53942465</td><td> 0.6112722</td><td> 0.166209375</td><td>-0.009998168</td></tr>\n",
       "\t<tr><th scope=row>Solar.R</th><td> 0.299916962</td><td> 1.00000000</td><td>-0.05679167</td><td> 0.2758403</td><td>-0.075300764</td><td>-0.150274979</td></tr>\n",
       "\t<tr><th scope=row>Wind</th><td>-0.539424654</td><td>-0.05679167</td><td> 1.00000000</td><td>-0.4538466</td><td>-0.162253082</td><td> 0.025306774</td></tr>\n",
       "\t<tr><th scope=row>Temp</th><td> 0.611272205</td><td> 0.27584027</td><td>-0.45384663</td><td> 1.0000000</td><td> 0.380969569</td><td>-0.131936041</td></tr>\n",
       "\t<tr><th scope=row>Month</th><td> 0.166209375</td><td>-0.07530076</td><td>-0.16225308</td><td> 0.3809696</td><td> 1.000000000</td><td>-0.006976819</td></tr>\n",
       "\t<tr><th scope=row>Day</th><td>-0.009998168</td><td>-0.15027498</td><td> 0.02530677</td><td>-0.1319360</td><td>-0.006976819</td><td> 1.000000000</td></tr>\n",
       "</tbody>\n",
       "</table>\n"
      ],
      "text/latex": [
       "A matrix: 6 × 6 of type dbl\n",
       "\\begin{tabular}{r|llllll}\n",
       "  & Ozone & Solar.R & Wind & Temp & Month & Day\\\\\n",
       "\\hline\n",
       "\tOzone &  1.000000000 &  0.29991696 & -0.53942465 &  0.6112722 &  0.166209375 & -0.009998168\\\\\n",
       "\tSolar.R &  0.299916962 &  1.00000000 & -0.05679167 &  0.2758403 & -0.075300764 & -0.150274979\\\\\n",
       "\tWind & -0.539424654 & -0.05679167 &  1.00000000 & -0.4538466 & -0.162253082 &  0.025306774\\\\\n",
       "\tTemp &  0.611272205 &  0.27584027 & -0.45384663 &  1.0000000 &  0.380969569 & -0.131936041\\\\\n",
       "\tMonth &  0.166209375 & -0.07530076 & -0.16225308 &  0.3809696 &  1.000000000 & -0.006976819\\\\\n",
       "\tDay & -0.009998168 & -0.15027498 &  0.02530677 & -0.1319360 & -0.006976819 &  1.000000000\\\\\n",
       "\\end{tabular}\n"
      ],
      "text/markdown": [
       "\n",
       "A matrix: 6 × 6 of type dbl\n",
       "\n",
       "| <!--/--> | Ozone | Solar.R | Wind | Temp | Month | Day |\n",
       "|---|---|---|---|---|---|---|\n",
       "| Ozone |  1.000000000 |  0.29991696 | -0.53942465 |  0.6112722 |  0.166209375 | -0.009998168 |\n",
       "| Solar.R |  0.299916962 |  1.00000000 | -0.05679167 |  0.2758403 | -0.075300764 | -0.150274979 |\n",
       "| Wind | -0.539424654 | -0.05679167 |  1.00000000 | -0.4538466 | -0.162253082 |  0.025306774 |\n",
       "| Temp |  0.611272205 |  0.27584027 | -0.45384663 |  1.0000000 |  0.380969569 | -0.131936041 |\n",
       "| Month |  0.166209375 | -0.07530076 | -0.16225308 |  0.3809696 |  1.000000000 | -0.006976819 |\n",
       "| Day | -0.009998168 | -0.15027498 |  0.02530677 | -0.1319360 | -0.006976819 |  1.000000000 |\n",
       "\n"
      ],
      "text/plain": [
       "        Ozone        Solar.R     Wind        Temp       Month       \n",
       "Ozone    1.000000000  0.29991696 -0.53942465  0.6112722  0.166209375\n",
       "Solar.R  0.299916962  1.00000000 -0.05679167  0.2758403 -0.075300764\n",
       "Wind    -0.539424654 -0.05679167  1.00000000 -0.4538466 -0.162253082\n",
       "Temp     0.611272205  0.27584027 -0.45384663  1.0000000  0.380969569\n",
       "Month    0.166209375 -0.07530076 -0.16225308  0.3809696  1.000000000\n",
       "Day     -0.009998168 -0.15027498  0.02530677 -0.1319360 -0.006976819\n",
       "        Day         \n",
       "Ozone   -0.009998168\n",
       "Solar.R -0.150274979\n",
       "Wind     0.025306774\n",
       "Temp    -0.131936041\n",
       "Month   -0.006976819\n",
       "Day      1.000000000"
      ]
     },
     "metadata": {},
     "output_type": "display_data"
    }
   ],
   "source": [
    "#Task 4: Correlation Analysis and Visualization\n",
    "# Calculate the correlation matrix\n",
    "cor_matrix <- cor(airquality[, sapply(airquality, is.numeric)], use = \"complete.obs\")\n",
    "cor_matrix"
   ]
  },
  {
   "cell_type": "code",
   "execution_count": 12,
   "id": "e444fbb8-b07d-4daa-8cbb-c87037287ac9",
   "metadata": {},
   "outputs": [
    {
     "ename": "ERROR",
     "evalue": "Error in library(corrplot): there is no package called 'corrplot'\n",
     "output_type": "error",
     "traceback": [
      "Error in library(corrplot): there is no package called 'corrplot'\nTraceback:\n",
      "1. library(corrplot)"
     ]
    }
   ],
   "source": [
    "# Load the corrplot package for visualization\n",
    "library(corrplot)"
   ]
  },
  {
   "cell_type": "code",
   "execution_count": 13,
   "id": "afb42331-f2e7-46d3-bcad-48e7563d8066",
   "metadata": {},
   "outputs": [
    {
     "ename": "ERROR",
     "evalue": "Error in corrplot(cor_matrix, method = \"color\", addCoef.col = \"black\", : could not find function \"corrplot\"\n",
     "output_type": "error",
     "traceback": [
      "Error in corrplot(cor_matrix, method = \"color\", addCoef.col = \"black\", : could not find function \"corrplot\"\nTraceback:\n"
     ]
    }
   ],
   "source": [
    "# Correlation heatmap\n",
    "corrplot(cor_matrix, method = \"color\", addCoef.col = \"black\", tl.col = \"black\", type = \"upper\")"
   ]
  },
  {
   "cell_type": "code",
   "execution_count": 14,
   "id": "4acf0914-1b42-4baa-83f4-3eba84c38869",
   "metadata": {},
   "outputs": [
    {
     "data": {
      "image/png": "[encoded data removed]",
      "text/plain": [
       "Plot with title \"Ozone vs Temperature\""
      ]
     },
     "metadata": {
      "image/png": {
       "height": 420,
       "width": 420
      }
     },
     "output_type": "display_data"
    }
   ],
   "source": [
    "#Task 5: Scatter Plot with Regression Line\n",
    "# Scatter plot of Temperature vs. Ozone\n",
    "plot(airquality$Temp, airquality$Ozone, main = \"Ozone vs Temperature\", xlab = \"Temperature (F)\", ylab = \"Ozone (ppb)\", col = \"blue\")\n",
    "abline(lm(Ozone ~ Temp, data = airquality), col = \"red\")"
   ]
  },
  {
   "cell_type": "code",
   "execution_count": null,
   "id": "6dc72bc2-7ba3-4920-b52f-206ff27bc2f0",
   "metadata": {},
   "outputs": [],
   "source": []
  },
  {
   "cell_type": "code",
   "execution_count": null,
   "id": "8c277e12-7ea4-43ad-a869-034d4533bad0",
   "metadata": {},
   "outputs": [],
   "source": []
  }
 ],
 "metadata": {
  "kernelspec": {
   "display_name": "R",
   "language": "R",
   "name": "ir"
  },
  "language_info": {
   "codemirror_mode": "r",
   "file_extension": ".r",
   "mimetype": "text/x-r-source",
   "name": "R",
   "pygments_lexer": "r",
   "version": "4.1.3"
  }
 },
 "nbformat": 4,
 "nbformat_minor": 5
}
